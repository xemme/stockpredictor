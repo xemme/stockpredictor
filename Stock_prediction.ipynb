{
 "cells": [
  {
   "cell_type": "code",
   "execution_count": 39,
   "metadata": {},
   "outputs": [],
   "source": [
    "#Description: Artificial recurrent NN called lstm.\n",
    "#Prediction of closing stock price of Apple.inc based on past 60 day stock prices"
   ]
  },
  {
   "cell_type": "code",
   "execution_count": 40,
   "metadata": {},
   "outputs": [],
   "source": [
    "#Libraries\n",
    "import math\n",
    "import pandas_datareader as web\n",
    "import numpy as np\n",
    "import pandas as pd\n",
    "from sklearn.preprocessing import MinMaxScaler\n",
    "from keras.models import Sequential\n",
    "from keras.layers import Dense, LSTM\n",
    "import matplotlib.pyplot as plt\n",
    "plt.style.use('fivethirtyeight')"
   ]
  },
  {
   "cell_type": "code",
   "execution_count": 41,
   "metadata": {},
   "outputs": [
    {
     "data": {
      "text/html": [
       "<div>\n",
       "<style scoped>\n",
       "    .dataframe tbody tr th:only-of-type {\n",
       "        vertical-align: middle;\n",
       "    }\n",
       "\n",
       "    .dataframe tbody tr th {\n",
       "        vertical-align: top;\n",
       "    }\n",
       "\n",
       "    .dataframe thead th {\n",
       "        text-align: right;\n",
       "    }\n",
       "</style>\n",
       "<table border=\"1\" class=\"dataframe\">\n",
       "  <thead>\n",
       "    <tr style=\"text-align: right;\">\n",
       "      <th></th>\n",
       "      <th>High</th>\n",
       "      <th>Low</th>\n",
       "      <th>Open</th>\n",
       "      <th>Close</th>\n",
       "      <th>Volume</th>\n",
       "      <th>Adj Close</th>\n",
       "    </tr>\n",
       "    <tr>\n",
       "      <th>Date</th>\n",
       "      <th></th>\n",
       "      <th></th>\n",
       "      <th></th>\n",
       "      <th></th>\n",
       "      <th></th>\n",
       "      <th></th>\n",
       "    </tr>\n",
       "  </thead>\n",
       "  <tbody>\n",
       "    <tr>\n",
       "      <td>2012-01-03</td>\n",
       "      <td>58.928570</td>\n",
       "      <td>58.428570</td>\n",
       "      <td>58.485714</td>\n",
       "      <td>58.747143</td>\n",
       "      <td>75555200.0</td>\n",
       "      <td>50.857235</td>\n",
       "    </tr>\n",
       "    <tr>\n",
       "      <td>2012-01-04</td>\n",
       "      <td>59.240002</td>\n",
       "      <td>58.468571</td>\n",
       "      <td>58.571430</td>\n",
       "      <td>59.062859</td>\n",
       "      <td>65005500.0</td>\n",
       "      <td>51.130558</td>\n",
       "    </tr>\n",
       "    <tr>\n",
       "      <td>2012-01-05</td>\n",
       "      <td>59.792858</td>\n",
       "      <td>58.952858</td>\n",
       "      <td>59.278572</td>\n",
       "      <td>59.718571</td>\n",
       "      <td>67817400.0</td>\n",
       "      <td>51.698215</td>\n",
       "    </tr>\n",
       "    <tr>\n",
       "      <td>2012-01-06</td>\n",
       "      <td>60.392857</td>\n",
       "      <td>59.888573</td>\n",
       "      <td>59.967144</td>\n",
       "      <td>60.342857</td>\n",
       "      <td>79573200.0</td>\n",
       "      <td>52.238651</td>\n",
       "    </tr>\n",
       "    <tr>\n",
       "      <td>2012-01-09</td>\n",
       "      <td>61.107143</td>\n",
       "      <td>60.192856</td>\n",
       "      <td>60.785713</td>\n",
       "      <td>60.247143</td>\n",
       "      <td>98506100.0</td>\n",
       "      <td>52.155792</td>\n",
       "    </tr>\n",
       "    <tr>\n",
       "      <td>...</td>\n",
       "      <td>...</td>\n",
       "      <td>...</td>\n",
       "      <td>...</td>\n",
       "      <td>...</td>\n",
       "      <td>...</td>\n",
       "      <td>...</td>\n",
       "    </tr>\n",
       "    <tr>\n",
       "      <td>2020-05-18</td>\n",
       "      <td>316.500000</td>\n",
       "      <td>310.320007</td>\n",
       "      <td>313.170013</td>\n",
       "      <td>314.959991</td>\n",
       "      <td>33843100.0</td>\n",
       "      <td>314.959991</td>\n",
       "    </tr>\n",
       "    <tr>\n",
       "      <td>2020-05-19</td>\n",
       "      <td>318.519989</td>\n",
       "      <td>313.010010</td>\n",
       "      <td>315.029999</td>\n",
       "      <td>313.140015</td>\n",
       "      <td>25432400.0</td>\n",
       "      <td>313.140015</td>\n",
       "    </tr>\n",
       "    <tr>\n",
       "      <td>2020-05-20</td>\n",
       "      <td>319.519989</td>\n",
       "      <td>316.519989</td>\n",
       "      <td>316.679993</td>\n",
       "      <td>319.230011</td>\n",
       "      <td>27876200.0</td>\n",
       "      <td>319.230011</td>\n",
       "    </tr>\n",
       "    <tr>\n",
       "      <td>2020-05-21</td>\n",
       "      <td>320.890015</td>\n",
       "      <td>315.869995</td>\n",
       "      <td>318.660004</td>\n",
       "      <td>316.850006</td>\n",
       "      <td>25672200.0</td>\n",
       "      <td>316.850006</td>\n",
       "    </tr>\n",
       "    <tr>\n",
       "      <td>2020-05-22</td>\n",
       "      <td>319.230011</td>\n",
       "      <td>315.350006</td>\n",
       "      <td>315.769989</td>\n",
       "      <td>318.890015</td>\n",
       "      <td>20450800.0</td>\n",
       "      <td>318.890015</td>\n",
       "    </tr>\n",
       "  </tbody>\n",
       "</table>\n",
       "<p>2111 rows × 6 columns</p>\n",
       "</div>"
      ],
      "text/plain": [
       "                  High         Low        Open       Close      Volume  \\\n",
       "Date                                                                     \n",
       "2012-01-03   58.928570   58.428570   58.485714   58.747143  75555200.0   \n",
       "2012-01-04   59.240002   58.468571   58.571430   59.062859  65005500.0   \n",
       "2012-01-05   59.792858   58.952858   59.278572   59.718571  67817400.0   \n",
       "2012-01-06   60.392857   59.888573   59.967144   60.342857  79573200.0   \n",
       "2012-01-09   61.107143   60.192856   60.785713   60.247143  98506100.0   \n",
       "...                ...         ...         ...         ...         ...   \n",
       "2020-05-18  316.500000  310.320007  313.170013  314.959991  33843100.0   \n",
       "2020-05-19  318.519989  313.010010  315.029999  313.140015  25432400.0   \n",
       "2020-05-20  319.519989  316.519989  316.679993  319.230011  27876200.0   \n",
       "2020-05-21  320.890015  315.869995  318.660004  316.850006  25672200.0   \n",
       "2020-05-22  319.230011  315.350006  315.769989  318.890015  20450800.0   \n",
       "\n",
       "             Adj Close  \n",
       "Date                    \n",
       "2012-01-03   50.857235  \n",
       "2012-01-04   51.130558  \n",
       "2012-01-05   51.698215  \n",
       "2012-01-06   52.238651  \n",
       "2012-01-09   52.155792  \n",
       "...                ...  \n",
       "2020-05-18  314.959991  \n",
       "2020-05-19  313.140015  \n",
       "2020-05-20  319.230011  \n",
       "2020-05-21  316.850006  \n",
       "2020-05-22  318.890015  \n",
       "\n",
       "[2111 rows x 6 columns]"
      ]
     },
     "execution_count": 41,
     "metadata": {},
     "output_type": "execute_result"
    }
   ],
   "source": [
    "#Get the stock quote\n",
    "df = web.DataReader('AAPL', data_source='yahoo', start='2012-01-01', end='2020-05-25')\n",
    "df"
   ]
  },
  {
   "cell_type": "code",
   "execution_count": 42,
   "metadata": {},
   "outputs": [
    {
     "data": {
      "text/plain": [
       "(2111, 6)"
      ]
     },
     "execution_count": 42,
     "metadata": {},
     "output_type": "execute_result"
    }
   ],
   "source": [
    "#Dimensions of data set\n",
    "df.shape"
   ]
  },
  {
   "cell_type": "code",
   "execution_count": 43,
   "metadata": {},
   "outputs": [
    {
     "data": {
      "image/png": "[encoded data removed]",
      "text/plain": [
       "<Figure size 1152x576 with 1 Axes>"
      ]
     },
     "metadata": {},
     "output_type": "display_data"
    }
   ],
   "source": [
    "#Visualize the closing price history\n",
    "plt.figure(figsize=(16,8))\n",
    "plt.title('Close Price History')\n",
    "plt.plot(df['Close'])\n",
    "plt.xlabel('Date', fontsize=18)\n",
    "plt.ylabel('Close Price USD $', fontsize=18)\n",
    "plt.show()"
   ]
  },
  {
   "cell_type": "code",
   "execution_count": 44,
   "metadata": {},
   "outputs": [
    {
     "data": {
      "text/plain": [
       "1689"
      ]
     },
     "execution_count": 44,
     "metadata": {},
     "output_type": "execute_result"
    }
   ],
   "source": [
    "#Create a new dataframe with only close col\n",
    "data = df.filter(['Close'])\n",
    "#Convert dataframe to numpy array\n",
    "dataset = data.values\n",
    "#Get number of rows to train data on\n",
    "training_data_len = math.ceil(len(dataset)*.8)\n",
    "training_data_len"
   ]
  },
  {
   "cell_type": "code",
   "execution_count": 45,
   "metadata": {},
   "outputs": [
    {
     "data": {
      "text/plain": [
       "array([[0.01089548],\n",
       "       [0.01205872],\n",
       "       [0.01447467],\n",
       "       ...,\n",
       "       [0.97063483],\n",
       "       [0.96186579],\n",
       "       [0.96938213]])"
      ]
     },
     "execution_count": 45,
     "metadata": {},
     "output_type": "execute_result"
    }
   ],
   "source": [
    "#Scale the data (pre-processing)\n",
    "scaler = MinMaxScaler(feature_range=(0,1)) #ranges data from 0-1 inclusive\n",
    "scaled_data = scaler.fit_transform(dataset)\n",
    "\n",
    "scaled_data"
   ]
  },
  {
   "cell_type": "code",
   "execution_count": 46,
   "metadata": {},
   "outputs": [
    {
     "name": "stdout",
     "output_type": "stream",
     "text": [
      "[array([0.01089548, 0.01205872, 0.01447467, 0.01677483, 0.01642217,\n",
      "       0.01721696, 0.01685378, 0.01624321, 0.01541158, 0.01798544,\n",
      "       0.02030665, 0.01959081, 0.01566949, 0.01941185, 0.01572739,\n",
      "       0.02954412, 0.02847562, 0.02987047, 0.03288645, 0.03471289,\n",
      "       0.03456025, 0.03399706, 0.03639722, 0.03865526, 0.04121335,\n",
      "       0.04534521, 0.05402475, 0.05415633, 0.05898825, 0.06259901,\n",
      "       0.05639331, 0.05878296, 0.0587356 , 0.06543606, 0.06448335,\n",
      "       0.06624662, 0.06941526, 0.07117856, 0.07625785, 0.07995811,\n",
      "       0.08102658, 0.0814003 , 0.07507357, 0.07354712, 0.07377347,\n",
      "       0.07972122, 0.08139505, 0.08499001, 0.09346428, 0.10477032,\n",
      "       0.10265438, 0.10265964, 0.11083389, 0.11339195, 0.11157078,\n",
      "       0.10990752, 0.10817582, 0.11392883, 0.11787649, 0.11952923])]\n",
      "[0.11544472908538655]\n",
      "\n",
      "[array([0.01089548, 0.01205872, 0.01447467, 0.01677483, 0.01642217,\n",
      "       0.01721696, 0.01685378, 0.01624321, 0.01541158, 0.01798544,\n",
      "       0.02030665, 0.01959081, 0.01566949, 0.01941185, 0.01572739,\n",
      "       0.02954412, 0.02847562, 0.02987047, 0.03288645, 0.03471289,\n",
      "       0.03456025, 0.03399706, 0.03639722, 0.03865526, 0.04121335,\n",
      "       0.04534521, 0.05402475, 0.05415633, 0.05898825, 0.06259901,\n",
      "       0.05639331, 0.05878296, 0.0587356 , 0.06543606, 0.06448335,\n",
      "       0.06624662, 0.06941526, 0.07117856, 0.07625785, 0.07995811,\n",
      "       0.08102658, 0.0814003 , 0.07507357, 0.07354712, 0.07377347,\n",
      "       0.07972122, 0.08139505, 0.08499001, 0.09346428, 0.10477032,\n",
      "       0.10265438, 0.10265964, 0.11083389, 0.11339195, 0.11157078,\n",
      "       0.10990752, 0.10817582, 0.11392883, 0.11787649, 0.11952923]), array([0.01205872, 0.01447467, 0.01677483, 0.01642217, 0.01721696,\n",
      "       0.01685378, 0.01624321, 0.01541158, 0.01798544, 0.02030665,\n",
      "       0.01959081, 0.01566949, 0.01941185, 0.01572739, 0.02954412,\n",
      "       0.02847562, 0.02987047, 0.03288645, 0.03471289, 0.03456025,\n",
      "       0.03399706, 0.03639722, 0.03865526, 0.04121335, 0.04534521,\n",
      "       0.05402475, 0.05415633, 0.05898825, 0.06259901, 0.05639331,\n",
      "       0.05878296, 0.0587356 , 0.06543606, 0.06448335, 0.06624662,\n",
      "       0.06941526, 0.07117856, 0.07625785, 0.07995811, 0.08102658,\n",
      "       0.0814003 , 0.07507357, 0.07354712, 0.07377347, 0.07972122,\n",
      "       0.08139505, 0.08499001, 0.09346428, 0.10477032, 0.10265438,\n",
      "       0.10265964, 0.11083389, 0.11339195, 0.11157078, 0.10990752,\n",
      "       0.10817582, 0.11392883, 0.11787649, 0.11952923, 0.11544473])]\n",
      "[0.11544472908538655, 0.11001805153856642]\n",
      "\n"
     ]
    }
   ],
   "source": [
    "#Create training data set\n",
    "#Create the scaled training data set\n",
    "train_data = scaled_data[0:training_data_len , :] #all values of all columns (= :)\n",
    "#Split data into x and y train data sets\n",
    "x_train = []\n",
    "y_train = []\n",
    "\n",
    "for i in range(60, len(train_data)): \n",
    "    #Appending last 60 entries to data set\n",
    "    x_train.append(train_data[i-60:i, 0]) #0-59 values\n",
    "    y_train.append(train_data[i, 0]) #61st value we will try to predict\n",
    "    \n",
    "    if i<=61:\n",
    "        print(x_train)\n",
    "        print(y_train)\n",
    "        print()"
   ]
  },
  {
   "cell_type": "code",
   "execution_count": 47,
   "metadata": {},
   "outputs": [],
   "source": [
    "#Convert x and y _train to numpy arrays for lstm model\n",
    "x_train, y_train = np.array(x_train), np.array(y_train)"
   ]
  },
  {
   "cell_type": "code",
   "execution_count": 48,
   "metadata": {},
   "outputs": [
    {
     "data": {
      "text/plain": [
       "(1629, 60, 1)"
      ]
     },
     "execution_count": 48,
     "metadata": {},
     "output_type": "execute_result"
    }
   ],
   "source": [
    "#Reshape the data\n",
    "# x_train.shape #Only 2-Dimensional right now, for ltsm must be 3-Dimensional\n",
    "x_train = np.reshape(x_train, (x_train.shape[0], x_train.shape[1], 1))\n",
    "x_train.shape # Now 3 Dimensional"
   ]
  },
  {
   "cell_type": "code",
   "execution_count": 49,
   "metadata": {},
   "outputs": [],
   "source": [
    "#Build the LSTM Model\n",
    "model = Sequential()\n",
    "model.add(LSTM(50, return_sequences=True, input_shape = (x_train.shape[1], 1)))\n",
    "#False as is final Layer\n",
    "model.add(LSTM(50, return_sequences=False))\n",
    "model.add(Dense(25))\n",
    "model.add(Dense(1))"
   ]
  },
  {
   "cell_type": "code",
   "execution_count": 50,
   "metadata": {},
   "outputs": [],
   "source": [
    "#Compile the model\n",
    "model.compile(optimizer='adam', loss='mean_squared_error')"
   ]
  },
  {
   "cell_type": "code",
   "execution_count": 51,
   "metadata": {
    "scrolled": true
   },
   "outputs": [
    {
     "name": "stdout",
     "output_type": "stream",
     "text": [
      "Epoch 1/1\n",
      "1629/1629 [==============================] - 51s 31ms/step - loss: 6.5604e-04\n"
     ]
    },
    {
     "data": {
      "text/plain": [
       "<keras.callbacks.callbacks.History at 0x254c375afd0>"
      ]
     },
     "execution_count": 51,
     "metadata": {},
     "output_type": "execute_result"
    }
   ],
   "source": [
    "#Train model\n",
    "model.fit(x_train, y_train, batch_size=1, epochs=1)"
   ]
  },
  {
   "cell_type": "code",
   "execution_count": 52,
   "metadata": {},
   "outputs": [],
   "source": [
    "#Create testing data set\n",
    "#Create new array containing scaled values from index 1543 - 2003\n",
    "test_data = scaled_data[training_data_len - 60: , :]\n",
    "#Create the data sets x and y _test\n",
    "x_test = []\n",
    "y_test = dataset[training_data_len: , :] #Values we want to predict\n",
    "for i in range(60, len(test_data)):\n",
    "    x_test.append(test_data[i-60:i, 0])"
   ]
  },
  {
   "cell_type": "code",
   "execution_count": 53,
   "metadata": {},
   "outputs": [],
   "source": [
    "#Convert data to np #Lstm models only accept np array\n",
    "x_test = np.array(x_test)"
   ]
  },
  {
   "cell_type": "code",
   "execution_count": 54,
   "metadata": {},
   "outputs": [],
   "source": [
    "#Reshape data\n",
    "#rows = x_test.shape[0]\n",
    "#columns = x_test.shape[1]\n",
    "#features = 1 #Just closing price we are interested in\n",
    "x_test = np.reshape(x_test, (x_test.shape[0], x_test.shape[1], 1))"
   ]
  },
  {
   "cell_type": "code",
   "execution_count": 55,
   "metadata": {},
   "outputs": [],
   "source": [
    "#Get the models predicted price values\n",
    "predictions = model.predict(x_test)\n",
    "predictions = scaler.inverse_transform(predictions) # We want predictions to = y_test data set"
   ]
  },
  {
   "cell_type": "code",
   "execution_count": 56,
   "metadata": {},
   "outputs": [
    {
     "data": {
      "text/plain": [
       "0.4413113707049763"
      ]
     },
     "execution_count": 56,
     "metadata": {},
     "output_type": "execute_result"
    }
   ],
   "source": [
    "#Get the root mean squared error (RSME) / Accuracy / residual SD \n",
    "rsme = np.sqrt(np.mean(predictions - y_test)**2)\n",
    "rsme"
   ]
  },
  {
   "cell_type": "code",
   "execution_count": 57,
   "metadata": {},
   "outputs": [
    {
     "name": "stderr",
     "output_type": "stream",
     "text": [
      "C:\\Users\\xemme\\Anaconda3\\lib\\site-packages\\ipykernel_launcher.py:4: SettingWithCopyWarning: \n",
      "A value is trying to be set on a copy of a slice from a DataFrame.\n",
      "Try using .loc[row_indexer,col_indexer] = value instead\n",
      "\n",
      "See the caveats in the documentation: http://pandas.pydata.org/pandas-docs/stable/user_guide/indexing.html#returning-a-view-versus-a-copy\n",
      "  after removing the cwd from sys.path.\n"
     ]
    },
    {
     "data": {
      "image/png": "[encoded data removed]",
      "text/plain": [
       "<Figure size 1152x576 with 1 Axes>"
      ]
     },
     "metadata": {},
     "output_type": "display_data"
    }
   ],
   "source": [
    "#Plot the data\n",
    "train = data[:training_data_len]\n",
    "valid = data[training_data_len:]\n",
    "valid['Predictions'] = predictions\n",
    "#Visualize the data\n",
    "plt.figure(figsize=(16,8))\n",
    "plt.title('Model')\n",
    "plt.xlabel('Date', fontsize=18)\n",
    "plt.ylabel('Close Price USD', fontsize=18)\n",
    "plt.plot(train['Close'])\n",
    "plt.plot(valid[['Close', 'Predictions']])\n",
    "plt.legend(['Train', 'Val', 'Predictions'], loc ='lower right')\n",
    "plt.show()"
   ]
  },
  {
   "cell_type": "code",
   "execution_count": 58,
   "metadata": {},
   "outputs": [
    {
     "data": {
      "text/html": [
       "<div>\n",
       "<style scoped>\n",
       "    .dataframe tbody tr th:only-of-type {\n",
       "        vertical-align: middle;\n",
       "    }\n",
       "\n",
       "    .dataframe tbody tr th {\n",
       "        vertical-align: top;\n",
       "    }\n",
       "\n",
       "    .dataframe thead th {\n",
       "        text-align: right;\n",
       "    }\n",
       "</style>\n",
       "<table border=\"1\" class=\"dataframe\">\n",
       "  <thead>\n",
       "    <tr style=\"text-align: right;\">\n",
       "      <th></th>\n",
       "      <th>Close</th>\n",
       "      <th>Predictions</th>\n",
       "    </tr>\n",
       "    <tr>\n",
       "      <th>Date</th>\n",
       "      <th></th>\n",
       "      <th></th>\n",
       "    </tr>\n",
       "  </thead>\n",
       "  <tbody>\n",
       "    <tr>\n",
       "      <td>2018-09-19</td>\n",
       "      <td>218.369995</td>\n",
       "      <td>221.807251</td>\n",
       "    </tr>\n",
       "    <tr>\n",
       "      <td>2018-09-20</td>\n",
       "      <td>220.029999</td>\n",
       "      <td>220.949921</td>\n",
       "    </tr>\n",
       "    <tr>\n",
       "      <td>2018-09-21</td>\n",
       "      <td>217.660004</td>\n",
       "      <td>220.376892</td>\n",
       "    </tr>\n",
       "    <tr>\n",
       "      <td>2018-09-24</td>\n",
       "      <td>220.789993</td>\n",
       "      <td>219.736465</td>\n",
       "    </tr>\n",
       "    <tr>\n",
       "      <td>2018-09-25</td>\n",
       "      <td>222.190002</td>\n",
       "      <td>219.528976</td>\n",
       "    </tr>\n",
       "    <tr>\n",
       "      <td>...</td>\n",
       "      <td>...</td>\n",
       "      <td>...</td>\n",
       "    </tr>\n",
       "    <tr>\n",
       "      <td>2020-05-18</td>\n",
       "      <td>314.959991</td>\n",
       "      <td>311.505981</td>\n",
       "    </tr>\n",
       "    <tr>\n",
       "      <td>2020-05-19</td>\n",
       "      <td>313.140015</td>\n",
       "      <td>312.535248</td>\n",
       "    </tr>\n",
       "    <tr>\n",
       "      <td>2020-05-20</td>\n",
       "      <td>319.230011</td>\n",
       "      <td>313.361267</td>\n",
       "    </tr>\n",
       "    <tr>\n",
       "      <td>2020-05-21</td>\n",
       "      <td>316.850006</td>\n",
       "      <td>314.794556</td>\n",
       "    </tr>\n",
       "    <tr>\n",
       "      <td>2020-05-22</td>\n",
       "      <td>318.890015</td>\n",
       "      <td>316.023438</td>\n",
       "    </tr>\n",
       "  </tbody>\n",
       "</table>\n",
       "<p>422 rows × 2 columns</p>\n",
       "</div>"
      ],
      "text/plain": [
       "                 Close  Predictions\n",
       "Date                               \n",
       "2018-09-19  218.369995   221.807251\n",
       "2018-09-20  220.029999   220.949921\n",
       "2018-09-21  217.660004   220.376892\n",
       "2018-09-24  220.789993   219.736465\n",
       "2018-09-25  222.190002   219.528976\n",
       "...                ...          ...\n",
       "2020-05-18  314.959991   311.505981\n",
       "2020-05-19  313.140015   312.535248\n",
       "2020-05-20  319.230011   313.361267\n",
       "2020-05-21  316.850006   314.794556\n",
       "2020-05-22  318.890015   316.023438\n",
       "\n",
       "[422 rows x 2 columns]"
      ]
     },
     "execution_count": 58,
     "metadata": {},
     "output_type": "execute_result"
    }
   ],
   "source": [
    "#Show valid and prediction prices\n",
    "valid"
   ]
  },
  {
   "cell_type": "code",
   "execution_count": 60,
   "metadata": {},
   "outputs": [
    {
     "name": "stdout",
     "output_type": "stream",
     "text": [
      "[[317.29608]]\n"
     ]
    }
   ],
   "source": [
    "#Predict stock for certain day\n",
    "#Get quote\n",
    "apple_quote = web.DataReader('AAPL', data_source='yahoo', start='2012-01-01', end='2020-05-25')\n",
    "#Create new data frame\n",
    "new_df = apple_quote.filter(['Close'])\n",
    "#Get the last 60 day closing prices and convert df to array\n",
    "last_60_days = new_df[-60:].values\n",
    "#Scale the data for vlaues between 0 and 1\n",
    "last_60_days_scaled = scaler.transform(last_60_days)\n",
    "#Create an empty list \n",
    "X_test = []\n",
    "#Append scaled past 60 days\n",
    "X_test.append(last_60_days_scaled)\n",
    "#Convert x_test to np array\n",
    "X_test = np.array(X_test) #For lstm model\n",
    "#Reshape data\n",
    "X_test = np.reshape(X_test, (X_test.shape[0], X_test.shape[1], 1))\n",
    "#Get the predicted scaled price\n",
    "pred_price = model.predict(X_test)\n",
    "#Undo scaling\n",
    "pred_price = scaler.inverse_transform(pred_price)\n",
    "print(pred_price)"
   ]
  },
  {
   "cell_type": "code",
   "execution_count": 62,
   "metadata": {},
   "outputs": [
    {
     "name": "stdout",
     "output_type": "stream",
     "text": [
      "Date\n",
      "2020-05-26    316.829987\n",
      "Name: Close, dtype: float64\n"
     ]
    }
   ],
   "source": [
    "#Get quote\n",
    "apple_quote2 = web.DataReader('AAPL', data_source='yahoo', start='2020-05-26', end='2020-05-26')\n",
    "print(apple_quote2['Close'])"
   ]
  },
  {
   "cell_type": "code",
   "execution_count": null,
   "metadata": {},
   "outputs": [],
   "source": []
  }
 ],
 "metadata": {
  "kernelspec": {
   "display_name": "Python 3",
   "language": "python",
   "name": "python3"
  },
  "language_info": {
   "codemirror_mode": {
    "name": "ipython",
    "version": 3
   },
   "file_extension": ".py",
   "mimetype": "text/x-python",
   "name": "python",
   "nbconvert_exporter": "python",
   "pygments_lexer": "ipython3",
   "version": "3.7.3"
  }
 },
 "nbformat": 4,
 "nbformat_minor": 2
}
